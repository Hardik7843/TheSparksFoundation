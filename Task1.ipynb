{
  "nbformat": 4,
  "nbformat_minor": 0,
  "metadata": {
    "colab": {
      "provenance": []
    },
    "kernelspec": {
      "name": "python3",
      "display_name": "Python 3"
    },
    "language_info": {
      "name": "python"
    }
  },
  "cells": [
    {
      "cell_type": "markdown",
      "source": [
        "**Uploading the file on Colab and Importing the Required Libraries**"
      ],
      "metadata": {
        "id": "c6BfV2lEVmrT"
      }
    },
    {
      "cell_type": "code",
      "execution_count": null,
      "metadata": {
        "id": "NfplHXKpCwrN"
      },
      "outputs": [],
      "source": [
        "from google.colab import files\n",
        "uploaded = files.upload()\n",
        "import numpy as np\n",
        "import pandas as pd"
      ]
    },
    {
      "cell_type": "markdown",
      "source": [
        "**Reading the .csv file of given dataset and seeing first five rows of dataset**"
      ],
      "metadata": {
        "id": "5XMMDfM-V77H"
      }
    },
    {
      "cell_type": "code",
      "source": [
        "file = pd.read_csv(\"student_scores - student_scores.csv\")"
      ],
      "metadata": {
        "id": "suUfx-cXDFRe"
      },
      "execution_count": 2,
      "outputs": []
    },
    {
      "cell_type": "code",
      "source": [
        "file.head()"
      ],
      "metadata": {
        "id": "mVbb7xPEDFNF"
      },
      "execution_count": null,
      "outputs": []
    },
    {
      "cell_type": "markdown",
      "source": [
        "**.info** This function gives total number of rows and count of null and missing values if present any"
      ],
      "metadata": {
        "id": "p0fr2EtshIrt"
      }
    },
    {
      "cell_type": "code",
      "source": [
        "file.info()"
      ],
      "metadata": {
        "id": "l-s-YZNGDFJu"
      },
      "execution_count": null,
      "outputs": []
    },
    {
      "cell_type": "markdown",
      "source": [
        "**Describe function gives the required values like mean mean , standard deviation , minimum and maximum values and at last 25% percenile values**\n",
        "\n",
        "---\n",
        "\n"
      ],
      "metadata": {
        "id": "1z1Ht3ZZWPjc"
      }
    },
    {
      "cell_type": "code",
      "source": [
        "file.describe()"
      ],
      "metadata": {
        "id": "IrxxWbl8DFHN"
      },
      "execution_count": null,
      "outputs": []
    },
    {
      "cell_type": "markdown",
      "source": [
        "**Defining X and Y** \n",
        "\n",
        "X --> Number of Hours the student studies ( Feature )\n",
        "\n",
        "Y --> Test Scores of a student ( Label )"
      ],
      "metadata": {
        "id": "-GMrAQ_BWwhs"
      }
    },
    {
      "cell_type": "code",
      "source": [
        "x = file.drop(['Scores'],axis =1).values\n",
        "y = file['Scores'].values"
      ],
      "metadata": {
        "id": "GjUY2lxxDFFV"
      },
      "execution_count": 37,
      "outputs": []
    },
    {
      "cell_type": "markdown",
      "source": [
        "**Split of Training and Test Dataset**\n",
        "\n",
        "train_test_split is one of popular funtions used for splitting \n",
        "there are other too e.g stratified suffle split , random , non-randon etc."
      ],
      "metadata": {
        "id": "tICafbsdXHDB"
      }
    },
    {
      "cell_type": "code",
      "source": [
        "from sklearn.model_selection import train_test_split\n",
        "x_train, x_test, y_train, y_test = train_test_split( x, y, test_size=0.2, random_state=69)"
      ],
      "metadata": {
        "id": "igY3rCc1DFDE"
      },
      "execution_count": 44,
      "outputs": []
    },
    {
      "cell_type": "markdown",
      "source": [
        "**Since there were only two variables for the given Problem Statement\n",
        "that is why I used the LinearRegresssion**\n"
      ],
      "metadata": {
        "id": "WGASmkD8XqsF"
      }
    },
    {
      "cell_type": "code",
      "source": [
        "from sklearn import linear_model\n",
        "reg = linear_model.LinearRegression()\n",
        "reg.fit(x_train,y_train)"
      ],
      "metadata": {
        "id": "Ox38bslLDFAs"
      },
      "execution_count": null,
      "outputs": []
    },
    {
      "cell_type": "code",
      "source": [
        "y_pred = reg.predict(x_test)\n",
        "print(y_pred)"
      ],
      "metadata": {
        "id": "D_50hgPnDE-d"
      },
      "execution_count": null,
      "outputs": []
    },
    {
      "cell_type": "markdown",
      "source": [
        "**Evaluation of model based on r2_score and mean_squared_error**"
      ],
      "metadata": {
        "id": "Q4oUI_JkZkdI"
      }
    },
    {
      "cell_type": "markdown",
      "source": [
        "r2 score explains the variation of dependent variable with respect to independent variable it lies between 0 to 1. it tells us that how much variation in lables(dependent variable) is coming by variation in features(independent variables).\n",
        "it must be close to 1 for better results.\n",
        "\n",
        "interpretation: How much variation of \"Score\" is explained by \"Hours\" in our regression model it is 93% or 0.93 so we are on good side.:) "
      ],
      "metadata": {
        "id": "RH_XWd59bE-g"
      }
    },
    {
      "cell_type": "code",
      "source": [
        "from sklearn.metrics import r2_score\n",
        "e = r2_score(y_test,y_pred)\n",
        "e"
      ],
      "metadata": {
        "id": "AxLgNslADE8N"
      },
      "execution_count": null,
      "outputs": []
    },
    {
      "cell_type": "markdown",
      "source": [
        "**Evaluation of model based on mean_squared_error(MSE)**\n",
        "\n",
        "MSE is average value of squared error. the suqared error is calculated by taking summation of squares of difference between predicted and actual label value. it must be as minimum as possible for good prediction. \n",
        "\n",
        "Interpretation: my MSE is coming out to be 27.29 which is quite large I would really appreciate If someone can help to minimize this in better way.:)"
      ],
      "metadata": {
        "id": "QiZrtWUAdUhg"
      }
    },
    {
      "cell_type": "code",
      "source": [
        "from sklearn.metrics import mean_squared_error\n",
        "e = mean_squared_error(y_test,y_pred)\n",
        "e"
      ],
      "metadata": {
        "id": "KQoy07t2YXzh"
      },
      "execution_count": null,
      "outputs": []
    },
    {
      "cell_type": "markdown",
      "source": [
        "Plotting this graph would help me to determine whether the predicted and actual values of scores are close or not. if they are close enough the points on below graph will be in straight line. as we can see from the below only one point is exception. since the data set is pretty small it is difficult to observe the theory which considered."
      ],
      "metadata": {
        "id": "7XnEW6LFZxSN"
      }
    },
    {
      "cell_type": "code",
      "source": [
        "import matplotlib.pyplot as plt\n",
        "plt.figure(figsize=(5,5))\n",
        "plt.scatter(y_test,y_pred)\n",
        "\n",
        "plt.xlabel(\"Actual\")\n",
        "plt.ylabel(\"Predicted\")\n",
        "plt.title(\"Actual vs. Predicted\")"
      ],
      "metadata": {
        "id": "78ifBfC2DE57"
      },
      "execution_count": null,
      "outputs": []
    },
    {
      "cell_type": "code",
      "source": [
        "df = pd.DataFrame({\"Predicted Values\":y_pred ,\"Actual Values\":y_test , \"Difference\":y_pred-y_test})\n",
        "df"
      ],
      "metadata": {
        "colab": {
          "base_uri": "https://localhost:8080/",
          "height": 206
        },
        "id": "6rLefED6DE3b",
        "outputId": "99fe56ba-ac01-4809-a44d-b3f99d6c83bc"
      },
      "execution_count": 59,
      "outputs": [
        {
          "output_type": "execute_result",
          "data": {
            "text/plain": [
              "   Predicted Values  Actual Values  Difference\n",
              "0         74.905761             69    5.905761\n",
              "1         61.844106             67   -5.155894\n",
              "2         25.673372             30   -4.326628\n",
              "3         48.782452             54   -5.217548\n",
              "4         11.606975             17   -5.393025"
            ],
            "text/html": [
              "\n",
              "  <div id=\"df-66232da0-4b53-4bef-9dce-013c4d1fd341\">\n",
              "    <div class=\"colab-df-container\">\n",
              "      <div>\n",
              "<style scoped>\n",
              "    .dataframe tbody tr th:only-of-type {\n",
              "        vertical-align: middle;\n",
              "    }\n",
              "\n",
              "    .dataframe tbody tr th {\n",
              "        vertical-align: top;\n",
              "    }\n",
              "\n",
              "    .dataframe thead th {\n",
              "        text-align: right;\n",
              "    }\n",
              "</style>\n",
              "<table border=\"1\" class=\"dataframe\">\n",
              "  <thead>\n",
              "    <tr style=\"text-align: right;\">\n",
              "      <th></th>\n",
              "      <th>Predicted Values</th>\n",
              "      <th>Actual Values</th>\n",
              "      <th>Difference</th>\n",
              "    </tr>\n",
              "  </thead>\n",
              "  <tbody>\n",
              "    <tr>\n",
              "      <th>0</th>\n",
              "      <td>74.905761</td>\n",
              "      <td>69</td>\n",
              "      <td>5.905761</td>\n",
              "    </tr>\n",
              "    <tr>\n",
              "      <th>1</th>\n",
              "      <td>61.844106</td>\n",
              "      <td>67</td>\n",
              "      <td>-5.155894</td>\n",
              "    </tr>\n",
              "    <tr>\n",
              "      <th>2</th>\n",
              "      <td>25.673372</td>\n",
              "      <td>30</td>\n",
              "      <td>-4.326628</td>\n",
              "    </tr>\n",
              "    <tr>\n",
              "      <th>3</th>\n",
              "      <td>48.782452</td>\n",
              "      <td>54</td>\n",
              "      <td>-5.217548</td>\n",
              "    </tr>\n",
              "    <tr>\n",
              "      <th>4</th>\n",
              "      <td>11.606975</td>\n",
              "      <td>17</td>\n",
              "      <td>-5.393025</td>\n",
              "    </tr>\n",
              "  </tbody>\n",
              "</table>\n",
              "</div>\n",
              "      <button class=\"colab-df-convert\" onclick=\"convertToInteractive('df-66232da0-4b53-4bef-9dce-013c4d1fd341')\"\n",
              "              title=\"Convert this dataframe to an interactive table.\"\n",
              "              style=\"display:none;\">\n",
              "        \n",
              "  <svg xmlns=\"http://www.w3.org/2000/svg\" height=\"24px\"viewBox=\"0 0 24 24\"\n",
              "       width=\"24px\">\n",
              "    <path d=\"M0 0h24v24H0V0z\" fill=\"none\"/>\n",
              "    <path d=\"M18.56 5.44l.94 2.06.94-2.06 2.06-.94-2.06-.94-.94-2.06-.94 2.06-2.06.94zm-11 1L8.5 8.5l.94-2.06 2.06-.94-2.06-.94L8.5 2.5l-.94 2.06-2.06.94zm10 10l.94 2.06.94-2.06 2.06-.94-2.06-.94-.94-2.06-.94 2.06-2.06.94z\"/><path d=\"M17.41 7.96l-1.37-1.37c-.4-.4-.92-.59-1.43-.59-.52 0-1.04.2-1.43.59L10.3 9.45l-7.72 7.72c-.78.78-.78 2.05 0 2.83L4 21.41c.39.39.9.59 1.41.59.51 0 1.02-.2 1.41-.59l7.78-7.78 2.81-2.81c.8-.78.8-2.07 0-2.86zM5.41 20L4 18.59l7.72-7.72 1.47 1.35L5.41 20z\"/>\n",
              "  </svg>\n",
              "      </button>\n",
              "      \n",
              "  <style>\n",
              "    .colab-df-container {\n",
              "      display:flex;\n",
              "      flex-wrap:wrap;\n",
              "      gap: 12px;\n",
              "    }\n",
              "\n",
              "    .colab-df-convert {\n",
              "      background-color: #E8F0FE;\n",
              "      border: none;\n",
              "      border-radius: 50%;\n",
              "      cursor: pointer;\n",
              "      display: none;\n",
              "      fill: #1967D2;\n",
              "      height: 32px;\n",
              "      padding: 0 0 0 0;\n",
              "      width: 32px;\n",
              "    }\n",
              "\n",
              "    .colab-df-convert:hover {\n",
              "      background-color: #E2EBFA;\n",
              "      box-shadow: 0px 1px 2px rgba(60, 64, 67, 0.3), 0px 1px 3px 1px rgba(60, 64, 67, 0.15);\n",
              "      fill: #174EA6;\n",
              "    }\n",
              "\n",
              "    [theme=dark] .colab-df-convert {\n",
              "      background-color: #3B4455;\n",
              "      fill: #D2E3FC;\n",
              "    }\n",
              "\n",
              "    [theme=dark] .colab-df-convert:hover {\n",
              "      background-color: #434B5C;\n",
              "      box-shadow: 0px 1px 3px 1px rgba(0, 0, 0, 0.15);\n",
              "      filter: drop-shadow(0px 1px 2px rgba(0, 0, 0, 0.3));\n",
              "      fill: #FFFFFF;\n",
              "    }\n",
              "  </style>\n",
              "\n",
              "      <script>\n",
              "        const buttonEl =\n",
              "          document.querySelector('#df-66232da0-4b53-4bef-9dce-013c4d1fd341 button.colab-df-convert');\n",
              "        buttonEl.style.display =\n",
              "          google.colab.kernel.accessAllowed ? 'block' : 'none';\n",
              "\n",
              "        async function convertToInteractive(key) {\n",
              "          const element = document.querySelector('#df-66232da0-4b53-4bef-9dce-013c4d1fd341');\n",
              "          const dataTable =\n",
              "            await google.colab.kernel.invokeFunction('convertToInteractive',\n",
              "                                                     [key], {});\n",
              "          if (!dataTable) return;\n",
              "\n",
              "          const docLinkHtml = 'Like what you see? Visit the ' +\n",
              "            '<a target=\"_blank\" href=https://colab.research.google.com/notebooks/data_table.ipynb>data table notebook</a>'\n",
              "            + ' to learn more about interactive tables.';\n",
              "          element.innerHTML = '';\n",
              "          dataTable['output_type'] = 'display_data';\n",
              "          await google.colab.output.renderOutput(dataTable, element);\n",
              "          const docLink = document.createElement('div');\n",
              "          docLink.innerHTML = docLinkHtml;\n",
              "          element.appendChild(docLink);\n",
              "        }\n",
              "      </script>\n",
              "    </div>\n",
              "  </div>\n",
              "  "
            ]
          },
          "metadata": {},
          "execution_count": 59
        }
      ]
    },
    {
      "cell_type": "markdown",
      "source": [
        "**Q)** What will be predicted score if a student studies for 9.25 hrs/ day?\n",
        "\n",
        "**Ans** 93.5% according to my model"
      ],
      "metadata": {
        "id": "YjPoLQUGgiJ5"
      }
    },
    {
      "cell_type": "code",
      "source": [
        "value = reg.predict([[9.25]])"
      ],
      "metadata": {
        "id": "1aA4JS_pDExK"
      },
      "execution_count": 65,
      "outputs": []
    },
    {
      "cell_type": "code",
      "source": [
        "value"
      ],
      "metadata": {
        "colab": {
          "base_uri": "https://localhost:8080/"
        },
        "id": "dGs7ke29DEu8",
        "outputId": "dcd16c78-2b7a-40fe-c582-e61bdd523cd8"
      },
      "execution_count": 66,
      "outputs": [
        {
          "output_type": "execute_result",
          "data": {
            "text/plain": [
              "array([93.49349906])"
            ]
          },
          "metadata": {},
          "execution_count": 66
        }
      ]
    }
  ]
}