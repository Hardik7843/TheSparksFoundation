{
  "nbformat": 4,
  "nbformat_minor": 0,
  "metadata": {
    "colab": {
      "provenance": []
    },
    "kernelspec": {
      "name": "python3",
      "display_name": "Python 3"
    },
    "language_info": {
      "name": "python"
    },
    "widgets": {
      "application/vnd.jupyter.widget-state+json": {
        "df14885acca8463ab19de7f1440b0b23": {
          "model_module": "@jupyter-widgets/controls",
          "model_name": "VBoxModel",
          "model_module_version": "1.5.0",
          "state": {
            "_dom_classes": [
              "widget-interact"
            ],
            "_model_module": "@jupyter-widgets/controls",
            "_model_module_version": "1.5.0",
            "_model_name": "VBoxModel",
            "_view_count": null,
            "_view_module": "@jupyter-widgets/controls",
            "_view_module_version": "1.5.0",
            "_view_name": "VBoxView",
            "box_style": "",
            "children": [
              "IPY_MODEL_d8028d4a9b42400191c13a5f77aeee39",
              "IPY_MODEL_9a4ab06c069d4524b0ed4e67f68a936d"
            ],
            "layout": "IPY_MODEL_03104275ce224f2884332b49ae487091"
          }
        },
        "d8028d4a9b42400191c13a5f77aeee39": {
          "model_module": "@jupyter-widgets/controls",
          "model_name": "DropdownModel",
          "model_module_version": "1.5.0",
          "state": {
            "_dom_classes": [],
            "_model_module": "@jupyter-widgets/controls",
            "_model_module_version": "1.5.0",
            "_model_name": "DropdownModel",
            "_options_labels": [
              "Ship Mode",
              "Segment",
              "City",
              "State",
              "Postal Code",
              "Region",
              "Category",
              "Sub-Category",
              "Sales",
              "Quantity",
              "Discount"
            ],
            "_view_count": null,
            "_view_module": "@jupyter-widgets/controls",
            "_view_module_version": "1.5.0",
            "_view_name": "DropdownView",
            "description": "col",
            "description_tooltip": null,
            "disabled": false,
            "index": 5,
            "layout": "IPY_MODEL_77f46d27d31e43ae82e0bc310b0c8b31",
            "style": "IPY_MODEL_3b7d71b6b118430b8772e2a4c88dec30"
          }
        },
        "9a4ab06c069d4524b0ed4e67f68a936d": {
          "model_module": "@jupyter-widgets/output",
          "model_name": "OutputModel",
          "model_module_version": "1.0.0",
          "state": {
            "_dom_classes": [],
            "_model_module": "@jupyter-widgets/output",
            "_model_module_version": "1.0.0",
            "_model_name": "OutputModel",
            "_view_count": null,
            "_view_module": "@jupyter-widgets/output",
            "_view_module_version": "1.0.0",
            "_view_name": "OutputView",
            "layout": "IPY_MODEL_d2012f52f7104070b4fd92ee71967655",
            "msg_id": "",
            "outputs": [
              {
                "output_type": "display_data",
                "data": {
                  "text/plain": "<Figure size 432x288 with 1 Axes>",
                  "image/png": "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\n"
                },
                "metadata": {
                  "needs_background": "light"
                }
              }
            ]
          }
        },
        "03104275ce224f2884332b49ae487091": {
          "model_module": "@jupyter-widgets/base",
          "model_name": "LayoutModel",
          "model_module_version": "1.2.0",
          "state": {
            "_model_module": "@jupyter-widgets/base",
            "_model_module_version": "1.2.0",
            "_model_name": "LayoutModel",
            "_view_count": null,
            "_view_module": "@jupyter-widgets/base",
            "_view_module_version": "1.2.0",
            "_view_name": "LayoutView",
            "align_content": null,
            "align_items": null,
            "align_self": null,
            "border": null,
            "bottom": null,
            "display": null,
            "flex": null,
            "flex_flow": null,
            "grid_area": null,
            "grid_auto_columns": null,
            "grid_auto_flow": null,
            "grid_auto_rows": null,
            "grid_column": null,
            "grid_gap": null,
            "grid_row": null,
            "grid_template_areas": null,
            "grid_template_columns": null,
            "grid_template_rows": null,
            "height": null,
            "justify_content": null,
            "justify_items": null,
            "left": null,
            "margin": null,
            "max_height": null,
            "max_width": null,
            "min_height": null,
            "min_width": null,
            "object_fit": null,
            "object_position": null,
            "order": null,
            "overflow": null,
            "overflow_x": null,
            "overflow_y": null,
            "padding": null,
            "right": null,
            "top": null,
            "visibility": null,
            "width": null
          }
        },
        "77f46d27d31e43ae82e0bc310b0c8b31": {
          "model_module": "@jupyter-widgets/base",
          "model_name": "LayoutModel",
          "model_module_version": "1.2.0",
          "state": {
            "_model_module": "@jupyter-widgets/base",
            "_model_module_version": "1.2.0",
            "_model_name": "LayoutModel",
            "_view_count": null,
            "_view_module": "@jupyter-widgets/base",
            "_view_module_version": "1.2.0",
            "_view_name": "LayoutView",
            "align_content": null,
            "align_items": null,
            "align_self": null,
            "border": null,
            "bottom": null,
            "display": null,
            "flex": null,
            "flex_flow": null,
            "grid_area": null,
            "grid_auto_columns": null,
            "grid_auto_flow": null,
            "grid_auto_rows": null,
            "grid_column": null,
            "grid_gap": null,
            "grid_row": null,
            "grid_template_areas": null,
            "grid_template_columns": null,
            "grid_template_rows": null,
            "height": null,
            "justify_content": null,
            "justify_items": null,
            "left": null,
            "margin": null,
            "max_height": null,
            "max_width": null,
            "min_height": null,
            "min_width": null,
            "object_fit": null,
            "object_position": null,
            "order": null,
            "overflow": null,
            "overflow_x": null,
            "overflow_y": null,
            "padding": null,
            "right": null,
            "top": null,
            "visibility": null,
            "width": null
          }
        },
        "3b7d71b6b118430b8772e2a4c88dec30": {
          "model_module": "@jupyter-widgets/controls",
          "model_name": "DescriptionStyleModel",
          "model_module_version": "1.5.0",
          "state": {
            "_model_module": "@jupyter-widgets/controls",
            "_model_module_version": "1.5.0",
            "_model_name": "DescriptionStyleModel",
            "_view_count": null,
            "_view_module": "@jupyter-widgets/base",
            "_view_module_version": "1.2.0",
            "_view_name": "StyleView",
            "description_width": ""
          }
        },
        "d2012f52f7104070b4fd92ee71967655": {
          "model_module": "@jupyter-widgets/base",
          "model_name": "LayoutModel",
          "model_module_version": "1.2.0",
          "state": {
            "_model_module": "@jupyter-widgets/base",
            "_model_module_version": "1.2.0",
            "_model_name": "LayoutModel",
            "_view_count": null,
            "_view_module": "@jupyter-widgets/base",
            "_view_module_version": "1.2.0",
            "_view_name": "LayoutView",
            "align_content": null,
            "align_items": null,
            "align_self": null,
            "border": null,
            "bottom": null,
            "display": null,
            "flex": null,
            "flex_flow": null,
            "grid_area": null,
            "grid_auto_columns": null,
            "grid_auto_flow": null,
            "grid_auto_rows": null,
            "grid_column": null,
            "grid_gap": null,
            "grid_row": null,
            "grid_template_areas": null,
            "grid_template_columns": null,
            "grid_template_rows": null,
            "height": null,
            "justify_content": null,
            "justify_items": null,
            "left": null,
            "margin": null,
            "max_height": null,
            "max_width": null,
            "min_height": null,
            "min_width": null,
            "object_fit": null,
            "object_position": null,
            "order": null,
            "overflow": null,
            "overflow_x": null,
            "overflow_y": null,
            "padding": null,
            "right": null,
            "top": null,
            "visibility": null,
            "width": null
          }
        }
      }
    }
  },
  "cells": [
    {
      "cell_type": "code",
      "execution_count": null,
      "metadata": {
        "colab": {
          "base_uri": "https://localhost:8080/",
          "height": 56
        },
        "id": "LxZifH5vujUn",
        "outputId": "25106220-f1fe-4876-823e-236856b4e52f"
      },
      "outputs": [
        {
          "output_type": "display_data",
          "data": {
            "text/plain": [
              "<IPython.core.display.HTML object>"
            ],
            "text/html": [
              "\n",
              "     <input type=\"file\" id=\"files-958e02cf-9e8d-4c2d-bdb5-92a7f447af2b\" name=\"files[]\" multiple disabled\n",
              "        style=\"border:none\" />\n",
              "     <output id=\"result-958e02cf-9e8d-4c2d-bdb5-92a7f447af2b\">\n",
              "      Upload widget is only available when the cell has been executed in the\n",
              "      current browser session. Please rerun this cell to enable.\n",
              "      </output>\n",
              "      <script>// Copyright 2017 Google LLC\n",
              "//\n",
              "// Licensed under the Apache License, Version 2.0 (the \"License\");\n",
              "// you may not use this file except in compliance with the License.\n",
              "// You may obtain a copy of the License at\n",
              "//\n",
              "//      http://www.apache.org/licenses/LICENSE-2.0\n",
              "//\n",
              "// Unless required by applicable law or agreed to in writing, software\n",
              "// distributed under the License is distributed on an \"AS IS\" BASIS,\n",
              "// WITHOUT WARRANTIES OR CONDITIONS OF ANY KIND, either express or implied.\n",
              "// See the License for the specific language governing permissions and\n",
              "// limitations under the License.\n",
              "\n",
              "/**\n",
              " * @fileoverview Helpers for google.colab Python module.\n",
              " */\n",
              "(function(scope) {\n",
              "function span(text, styleAttributes = {}) {\n",
              "  const element = document.createElement('span');\n",
              "  element.textContent = text;\n",
              "  for (const key of Object.keys(styleAttributes)) {\n",
              "    element.style[key] = styleAttributes[key];\n",
              "  }\n",
              "  return element;\n",
              "}\n",
              "\n",
              "// Max number of bytes which will be uploaded at a time.\n",
              "const MAX_PAYLOAD_SIZE = 100 * 1024;\n",
              "\n",
              "function _uploadFiles(inputId, outputId) {\n",
              "  const steps = uploadFilesStep(inputId, outputId);\n",
              "  const outputElement = document.getElementById(outputId);\n",
              "  // Cache steps on the outputElement to make it available for the next call\n",
              "  // to uploadFilesContinue from Python.\n",
              "  outputElement.steps = steps;\n",
              "\n",
              "  return _uploadFilesContinue(outputId);\n",
              "}\n",
              "\n",
              "// This is roughly an async generator (not supported in the browser yet),\n",
              "// where there are multiple asynchronous steps and the Python side is going\n",
              "// to poll for completion of each step.\n",
              "// This uses a Promise to block the python side on completion of each step,\n",
              "// then passes the result of the previous step as the input to the next step.\n",
              "function _uploadFilesContinue(outputId) {\n",
              "  const outputElement = document.getElementById(outputId);\n",
              "  const steps = outputElement.steps;\n",
              "\n",
              "  const next = steps.next(outputElement.lastPromiseValue);\n",
              "  return Promise.resolve(next.value.promise).then((value) => {\n",
              "    // Cache the last promise value to make it available to the next\n",
              "    // step of the generator.\n",
              "    outputElement.lastPromiseValue = value;\n",
              "    return next.value.response;\n",
              "  });\n",
              "}\n",
              "\n",
              "/**\n",
              " * Generator function which is called between each async step of the upload\n",
              " * process.\n",
              " * @param {string} inputId Element ID of the input file picker element.\n",
              " * @param {string} outputId Element ID of the output display.\n",
              " * @return {!Iterable<!Object>} Iterable of next steps.\n",
              " */\n",
              "function* uploadFilesStep(inputId, outputId) {\n",
              "  const inputElement = document.getElementById(inputId);\n",
              "  inputElement.disabled = false;\n",
              "\n",
              "  const outputElement = document.getElementById(outputId);\n",
              "  outputElement.innerHTML = '';\n",
              "\n",
              "  const pickedPromise = new Promise((resolve) => {\n",
              "    inputElement.addEventListener('change', (e) => {\n",
              "      resolve(e.target.files);\n",
              "    });\n",
              "  });\n",
              "\n",
              "  const cancel = document.createElement('button');\n",
              "  inputElement.parentElement.appendChild(cancel);\n",
              "  cancel.textContent = 'Cancel upload';\n",
              "  const cancelPromise = new Promise((resolve) => {\n",
              "    cancel.onclick = () => {\n",
              "      resolve(null);\n",
              "    };\n",
              "  });\n",
              "\n",
              "  // Wait for the user to pick the files.\n",
              "  const files = yield {\n",
              "    promise: Promise.race([pickedPromise, cancelPromise]),\n",
              "    response: {\n",
              "      action: 'starting',\n",
              "    }\n",
              "  };\n",
              "\n",
              "  cancel.remove();\n",
              "\n",
              "  // Disable the input element since further picks are not allowed.\n",
              "  inputElement.disabled = true;\n",
              "\n",
              "  if (!files) {\n",
              "    return {\n",
              "      response: {\n",
              "        action: 'complete',\n",
              "      }\n",
              "    };\n",
              "  }\n",
              "\n",
              "  for (const file of files) {\n",
              "    const li = document.createElement('li');\n",
              "    li.append(span(file.name, {fontWeight: 'bold'}));\n",
              "    li.append(span(\n",
              "        `(${file.type || 'n/a'}) - ${file.size} bytes, ` +\n",
              "        `last modified: ${\n",
              "            file.lastModifiedDate ? file.lastModifiedDate.toLocaleDateString() :\n",
              "                                    'n/a'} - `));\n",
              "    const percent = span('0% done');\n",
              "    li.appendChild(percent);\n",
              "\n",
              "    outputElement.appendChild(li);\n",
              "\n",
              "    const fileDataPromise = new Promise((resolve) => {\n",
              "      const reader = new FileReader();\n",
              "      reader.onload = (e) => {\n",
              "        resolve(e.target.result);\n",
              "      };\n",
              "      reader.readAsArrayBuffer(file);\n",
              "    });\n",
              "    // Wait for the data to be ready.\n",
              "    let fileData = yield {\n",
              "      promise: fileDataPromise,\n",
              "      response: {\n",
              "        action: 'continue',\n",
              "      }\n",
              "    };\n",
              "\n",
              "    // Use a chunked sending to avoid message size limits. See b/62115660.\n",
              "    let position = 0;\n",
              "    do {\n",
              "      const length = Math.min(fileData.byteLength - position, MAX_PAYLOAD_SIZE);\n",
              "      const chunk = new Uint8Array(fileData, position, length);\n",
              "      position += length;\n",
              "\n",
              "      const base64 = btoa(String.fromCharCode.apply(null, chunk));\n",
              "      yield {\n",
              "        response: {\n",
              "          action: 'append',\n",
              "          file: file.name,\n",
              "          data: base64,\n",
              "        },\n",
              "      };\n",
              "\n",
              "      let percentDone = fileData.byteLength === 0 ?\n",
              "          100 :\n",
              "          Math.round((position / fileData.byteLength) * 100);\n",
              "      percent.textContent = `${percentDone}% done`;\n",
              "\n",
              "    } while (position < fileData.byteLength);\n",
              "  }\n",
              "\n",
              "  // All done.\n",
              "  yield {\n",
              "    response: {\n",
              "      action: 'complete',\n",
              "    }\n",
              "  };\n",
              "}\n",
              "\n",
              "scope.google = scope.google || {};\n",
              "scope.google.colab = scope.google.colab || {};\n",
              "scope.google.colab._files = {\n",
              "  _uploadFiles,\n",
              "  _uploadFilesContinue,\n",
              "};\n",
              "})(self);\n",
              "</script> "
            ]
          },
          "metadata": {}
        }
      ],
      "source": [
        "from google.colab import files\n",
        "uploaded = files.upload()\n",
        "import numpy as np\n",
        "import pandas as pd\n",
        "import matplotlib.pyplot as plt\n"
      ]
    },
    {
      "cell_type": "code",
      "source": [
        "data = pd.read_csv(\"SampleSuperstore.csv\")"
      ],
      "metadata": {
        "id": "RAaaqDELvLP8"
      },
      "execution_count": null,
      "outputs": []
    },
    {
      "cell_type": "code",
      "source": [
        "data['Region'].value_counts()"
      ],
      "metadata": {
        "colab": {
          "base_uri": "https://localhost:8080/"
        },
        "id": "dMtlVQyYSiOM",
        "outputId": "2521fb2f-9f4b-436b-deef-a4fd29c7185b"
      },
      "execution_count": null,
      "outputs": [
        {
          "output_type": "execute_result",
          "data": {
            "text/plain": [
              "West       3203\n",
              "East       2848\n",
              "Central    2323\n",
              "South      1620\n",
              "Name: Region, dtype: int64"
            ]
          },
          "metadata": {},
          "execution_count": 3
        }
      ]
    },
    {
      "cell_type": "code",
      "source": [
        "data.describe()"
      ],
      "metadata": {
        "id": "hrmH0lnTAW0j"
      },
      "execution_count": null,
      "outputs": []
    },
    {
      "cell_type": "code",
      "source": [
        "data = data.drop(['Country'],axis=1)"
      ],
      "metadata": {
        "id": "YgB2jZMN46PS"
      },
      "execution_count": null,
      "outputs": []
    },
    {
      "cell_type": "code",
      "source": [
        "filter1 = data.drop(data[data['Profit']>=-200].index,inplace=True)\n",
        "# filter2 = filter1.drop(filter1[filter1['Profit']<=5000].index,inplace=True)"
      ],
      "metadata": {
        "id": "GLwRvSt45-Rz"
      },
      "execution_count": null,
      "outputs": []
    },
    {
      "cell_type": "code",
      "source": [
        "filt1 = data.loc[data['Profit']>-200] \n",
        "data2 = filt1.loc[data['Profit']<2000]"
      ],
      "metadata": {
        "id": "7ztSZXX8_kLF"
      },
      "execution_count": null,
      "outputs": []
    },
    {
      "cell_type": "code",
      "source": [
        "filt1.describe()"
      ],
      "metadata": {
        "colab": {
          "base_uri": "https://localhost:8080/",
          "height": 300
        },
        "id": "MVzUKysu2mIs",
        "outputId": "ba676e4f-d7e1-47f6-ae48-a4e645674006"
      },
      "execution_count": null,
      "outputs": [
        {
          "output_type": "execute_result",
          "data": {
            "text/plain": [
              "        Postal Code         Sales     Quantity     Discount       Profit\n",
              "count   9839.000000   9839.000000  9839.000000  9839.000000  9839.000000\n",
              "mean   55242.767659    213.949541     3.766338     0.150021    39.193084\n",
              "std    32141.264834    555.617183     2.219135     0.200811   197.080647\n",
              "min     1040.000000      0.444000     1.000000     0.000000  -199.770000\n",
              "25%    23223.000000     16.900000     2.000000     0.000000     2.022800\n",
              "50%    56560.000000     51.840000     3.000000     0.150000     8.930000\n",
              "75%    90008.000000    199.750000     5.000000     0.200000    30.050100\n",
              "max    99301.000000  17499.950000    14.000000     0.800000  8399.976000"
            ],
            "text/html": [
              "\n",
              "  <div id=\"df-224b0a81-7e6b-4d44-aff2-63e3b111a3b8\">\n",
              "    <div class=\"colab-df-container\">\n",
              "      <div>\n",
              "<style scoped>\n",
              "    .dataframe tbody tr th:only-of-type {\n",
              "        vertical-align: middle;\n",
              "    }\n",
              "\n",
              "    .dataframe tbody tr th {\n",
              "        vertical-align: top;\n",
              "    }\n",
              "\n",
              "    .dataframe thead th {\n",
              "        text-align: right;\n",
              "    }\n",
              "</style>\n",
              "<table border=\"1\" class=\"dataframe\">\n",
              "  <thead>\n",
              "    <tr style=\"text-align: right;\">\n",
              "      <th></th>\n",
              "      <th>Postal Code</th>\n",
              "      <th>Sales</th>\n",
              "      <th>Quantity</th>\n",
              "      <th>Discount</th>\n",
              "      <th>Profit</th>\n",
              "    </tr>\n",
              "  </thead>\n",
              "  <tbody>\n",
              "    <tr>\n",
              "      <th>count</th>\n",
              "      <td>9839.000000</td>\n",
              "      <td>9839.000000</td>\n",
              "      <td>9839.000000</td>\n",
              "      <td>9839.000000</td>\n",
              "      <td>9839.000000</td>\n",
              "    </tr>\n",
              "    <tr>\n",
              "      <th>mean</th>\n",
              "      <td>55242.767659</td>\n",
              "      <td>213.949541</td>\n",
              "      <td>3.766338</td>\n",
              "      <td>0.150021</td>\n",
              "      <td>39.193084</td>\n",
              "    </tr>\n",
              "    <tr>\n",
              "      <th>std</th>\n",
              "      <td>32141.264834</td>\n",
              "      <td>555.617183</td>\n",
              "      <td>2.219135</td>\n",
              "      <td>0.200811</td>\n",
              "      <td>197.080647</td>\n",
              "    </tr>\n",
              "    <tr>\n",
              "      <th>min</th>\n",
              "      <td>1040.000000</td>\n",
              "      <td>0.444000</td>\n",
              "      <td>1.000000</td>\n",
              "      <td>0.000000</td>\n",
              "      <td>-199.770000</td>\n",
              "    </tr>\n",
              "    <tr>\n",
              "      <th>25%</th>\n",
              "      <td>23223.000000</td>\n",
              "      <td>16.900000</td>\n",
              "      <td>2.000000</td>\n",
              "      <td>0.000000</td>\n",
              "      <td>2.022800</td>\n",
              "    </tr>\n",
              "    <tr>\n",
              "      <th>50%</th>\n",
              "      <td>56560.000000</td>\n",
              "      <td>51.840000</td>\n",
              "      <td>3.000000</td>\n",
              "      <td>0.150000</td>\n",
              "      <td>8.930000</td>\n",
              "    </tr>\n",
              "    <tr>\n",
              "      <th>75%</th>\n",
              "      <td>90008.000000</td>\n",
              "      <td>199.750000</td>\n",
              "      <td>5.000000</td>\n",
              "      <td>0.200000</td>\n",
              "      <td>30.050100</td>\n",
              "    </tr>\n",
              "    <tr>\n",
              "      <th>max</th>\n",
              "      <td>99301.000000</td>\n",
              "      <td>17499.950000</td>\n",
              "      <td>14.000000</td>\n",
              "      <td>0.800000</td>\n",
              "      <td>8399.976000</td>\n",
              "    </tr>\n",
              "  </tbody>\n",
              "</table>\n",
              "</div>\n",
              "      <button class=\"colab-df-convert\" onclick=\"convertToInteractive('df-224b0a81-7e6b-4d44-aff2-63e3b111a3b8')\"\n",
              "              title=\"Convert this dataframe to an interactive table.\"\n",
              "              style=\"display:none;\">\n",
              "        \n",
              "  <svg xmlns=\"http://www.w3.org/2000/svg\" height=\"24px\"viewBox=\"0 0 24 24\"\n",
              "       width=\"24px\">\n",
              "    <path d=\"M0 0h24v24H0V0z\" fill=\"none\"/>\n",
              "    <path d=\"M18.56 5.44l.94 2.06.94-2.06 2.06-.94-2.06-.94-.94-2.06-.94 2.06-2.06.94zm-11 1L8.5 8.5l.94-2.06 2.06-.94-2.06-.94L8.5 2.5l-.94 2.06-2.06.94zm10 10l.94 2.06.94-2.06 2.06-.94-2.06-.94-.94-2.06-.94 2.06-2.06.94z\"/><path d=\"M17.41 7.96l-1.37-1.37c-.4-.4-.92-.59-1.43-.59-.52 0-1.04.2-1.43.59L10.3 9.45l-7.72 7.72c-.78.78-.78 2.05 0 2.83L4 21.41c.39.39.9.59 1.41.59.51 0 1.02-.2 1.41-.59l7.78-7.78 2.81-2.81c.8-.78.8-2.07 0-2.86zM5.41 20L4 18.59l7.72-7.72 1.47 1.35L5.41 20z\"/>\n",
              "  </svg>\n",
              "      </button>\n",
              "      \n",
              "  <style>\n",
              "    .colab-df-container {\n",
              "      display:flex;\n",
              "      flex-wrap:wrap;\n",
              "      gap: 12px;\n",
              "    }\n",
              "\n",
              "    .colab-df-convert {\n",
              "      background-color: #E8F0FE;\n",
              "      border: none;\n",
              "      border-radius: 50%;\n",
              "      cursor: pointer;\n",
              "      display: none;\n",
              "      fill: #1967D2;\n",
              "      height: 32px;\n",
              "      padding: 0 0 0 0;\n",
              "      width: 32px;\n",
              "    }\n",
              "\n",
              "    .colab-df-convert:hover {\n",
              "      background-color: #E2EBFA;\n",
              "      box-shadow: 0px 1px 2px rgba(60, 64, 67, 0.3), 0px 1px 3px 1px rgba(60, 64, 67, 0.15);\n",
              "      fill: #174EA6;\n",
              "    }\n",
              "\n",
              "    [theme=dark] .colab-df-convert {\n",
              "      background-color: #3B4455;\n",
              "      fill: #D2E3FC;\n",
              "    }\n",
              "\n",
              "    [theme=dark] .colab-df-convert:hover {\n",
              "      background-color: #434B5C;\n",
              "      box-shadow: 0px 1px 3px 1px rgba(0, 0, 0, 0.15);\n",
              "      filter: drop-shadow(0px 1px 2px rgba(0, 0, 0, 0.3));\n",
              "      fill: #FFFFFF;\n",
              "    }\n",
              "  </style>\n",
              "\n",
              "      <script>\n",
              "        const buttonEl =\n",
              "          document.querySelector('#df-224b0a81-7e6b-4d44-aff2-63e3b111a3b8 button.colab-df-convert');\n",
              "        buttonEl.style.display =\n",
              "          google.colab.kernel.accessAllowed ? 'block' : 'none';\n",
              "\n",
              "        async function convertToInteractive(key) {\n",
              "          const element = document.querySelector('#df-224b0a81-7e6b-4d44-aff2-63e3b111a3b8');\n",
              "          const dataTable =\n",
              "            await google.colab.kernel.invokeFunction('convertToInteractive',\n",
              "                                                     [key], {});\n",
              "          if (!dataTable) return;\n",
              "\n",
              "          const docLinkHtml = 'Like what you see? Visit the ' +\n",
              "            '<a target=\"_blank\" href=https://colab.research.google.com/notebooks/data_table.ipynb>data table notebook</a>'\n",
              "            + ' to learn more about interactive tables.';\n",
              "          element.innerHTML = '';\n",
              "          dataTable['output_type'] = 'display_data';\n",
              "          await google.colab.output.renderOutput(dataTable, element);\n",
              "          const docLink = document.createElement('div');\n",
              "          docLink.innerHTML = docLinkHtml;\n",
              "          element.appendChild(docLink);\n",
              "        }\n",
              "      </script>\n",
              "    </div>\n",
              "  </div>\n",
              "  "
            ]
          },
          "metadata": {},
          "execution_count": 18
        }
      ]
    },
    {
      "cell_type": "code",
      "source": [
        "data2['Category'].value_counts()"
      ],
      "metadata": {
        "colab": {
          "base_uri": "https://localhost:8080/"
        },
        "id": "pxiOKJmlvLJs",
        "outputId": "c2a50e42-5054-4938-e0dc-01d7ab1033c0"
      },
      "execution_count": null,
      "outputs": [
        {
          "output_type": "execute_result",
          "data": {
            "text/plain": [
              "Office Supplies    5974\n",
              "Furniture          2044\n",
              "Technology         1806\n",
              "Name: Category, dtype: int64"
            ]
          },
          "metadata": {},
          "execution_count": 90
        }
      ]
    },
    {
      "cell_type": "code",
      "source": [
        "y = data2['Profit'].values"
      ],
      "metadata": {
        "id": "uaHiYj-3vLGw"
      },
      "execution_count": null,
      "outputs": []
    },
    {
      "cell_type": "code",
      "source": [
        "from ipywidgets import interact\n",
        "import seaborn as sns"
      ],
      "metadata": {
        "id": "AKf9Ze9EvK0u"
      },
      "execution_count": null,
      "outputs": []
    },
    {
      "cell_type": "code",
      "source": [
        "@interact\n",
        "def create_fare_plot(col = data.drop(['Profit'],axis =1).columns):\n",
        "  sns.scatterplot(data=data , x = col ,y='Profit')\n",
        "  plt.title(\"Profit vs. XYZ\")"
      ],
      "metadata": {
        "id": "y7JWyZSrvKx8",
        "colab": {
          "base_uri": "https://localhost:8080/",
          "height": 327,
          "referenced_widgets": [
            "df14885acca8463ab19de7f1440b0b23",
            "d8028d4a9b42400191c13a5f77aeee39",
            "9a4ab06c069d4524b0ed4e67f68a936d",
            "03104275ce224f2884332b49ae487091",
            "77f46d27d31e43ae82e0bc310b0c8b31",
            "3b7d71b6b118430b8772e2a4c88dec30",
            "d2012f52f7104070b4fd92ee71967655"
          ]
        },
        "outputId": "dbc9df7f-6adc-40df-e616-443fad505aff"
      },
      "execution_count": null,
      "outputs": [
        {
          "output_type": "display_data",
          "data": {
            "text/plain": [
              "interactive(children=(Dropdown(description='col', options=('Ship Mode', 'Segment', 'City', 'State', 'Postal Co…"
            ],
            "application/vnd.jupyter.widget-view+json": {
              "version_major": 2,
              "version_minor": 0,
              "model_id": "df14885acca8463ab19de7f1440b0b23"
            }
          },
          "metadata": {}
        }
      ]
    },
    {
      "cell_type": "code",
      "source": [
        "df_filter1 = data[data['Region'] == 'South']"
      ],
      "metadata": {
        "id": "uiirop9RyCzp"
      },
      "execution_count": null,
      "outputs": []
    },
    {
      "cell_type": "code",
      "source": [
        "df_filter2 = data[data['Region'] == 'West']"
      ],
      "metadata": {
        "id": "_ItdjuIByCwP"
      },
      "execution_count": null,
      "outputs": []
    },
    {
      "cell_type": "code",
      "source": [
        "df_filter3 = data[data['Region'] == 'Central']"
      ],
      "metadata": {
        "id": "yHc0oLPUyCtr"
      },
      "execution_count": null,
      "outputs": []
    },
    {
      "cell_type": "code",
      "source": [
        "df_filter4 = data[data['Region'] == 'East']"
      ],
      "metadata": {
        "id": "tmW30zadyCq2"
      },
      "execution_count": null,
      "outputs": []
    },
    {
      "cell_type": "code",
      "source": [
        "\n",
        "y = df_filter1['Profit'].values\n",
        "x = df_filter1['Discount'].values\n",
        "plt.xlabel(\"Discount\")\n",
        "plt.ylabel(\"Profit\")\n",
        "plt.title(\"1st graph\")\n",
        "plt.scatter(x,y)\n",
        "plt.show()"
      ],
      "metadata": {
        "colab": {
          "base_uri": "https://localhost:8080/",
          "height": 295
        },
        "id": "zssuH8DnyCoV",
        "outputId": "35d5e6af-4a1e-4f30-d5d2-cb58637ce8fe"
      },
      "execution_count": null,
      "outputs": [
        {
          "output_type": "display_data",
          "data": {
            "text/plain": [
              "<Figure size 432x288 with 1 Axes>"
            ],
            "image/png": "[encoded data removed]"
          },
          "metadata": {
            "needs_background": "light"
          }
        }
      ]
    },
    {
      "cell_type": "code",
      "source": [
        "def void(str )"
      ],
      "metadata": {
        "id": "VwJJwhucyCld"
      },
      "execution_count": null,
      "outputs": []
    },
    {
      "cell_type": "code",
      "source": [],
      "metadata": {
        "id": "NhKSWzJSyCjA"
      },
      "execution_count": null,
      "outputs": []
    },
    {
      "cell_type": "code",
      "source": [],
      "metadata": {
        "id": "Kl2oUYSMyCgi"
      },
      "execution_count": null,
      "outputs": []
    },
    {
      "cell_type": "code",
      "source": [],
      "metadata": {
        "id": "WF0CHryGyCdZ"
      },
      "execution_count": null,
      "outputs": []
    },
    {
      "cell_type": "code",
      "source": [],
      "metadata": {
        "id": "V0MCPLgsyCPJ"
      },
      "execution_count": null,
      "outputs": []
    },
    {
      "cell_type": "code",
      "source": [],
      "metadata": {
        "id": "iRjGY9MYyCKx"
      },
      "execution_count": null,
      "outputs": []
    }
  ]
}